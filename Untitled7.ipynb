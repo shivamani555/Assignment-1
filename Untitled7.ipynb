{
 "cells": [
  {
   "cell_type": "code",
   "execution_count": 1,
   "id": "d8544a6f-fb4f-4ccc-a93d-2db5472c5077",
   "metadata": {},
   "outputs": [],
   "source": [
    "import pandas as pd"
   ]
  },
  {
   "cell_type": "code",
   "execution_count": 2,
   "id": "a6a06aeb-ad8d-488e-89ed-ff2cd95da9c4",
   "metadata": {},
   "outputs": [
    {
     "data": {
      "text/html": [
       "<div>\n",
       "<style scoped>\n",
       "    .dataframe tbody tr th:only-of-type {\n",
       "        vertical-align: middle;\n",
       "    }\n",
       "\n",
       "    .dataframe tbody tr th {\n",
       "        vertical-align: top;\n",
       "    }\n",
       "\n",
       "    .dataframe thead th {\n",
       "        text-align: right;\n",
       "    }\n",
       "</style>\n",
       "<table border=\"1\" class=\"dataframe\">\n",
       "  <thead>\n",
       "    <tr style=\"text-align: right;\">\n",
       "      <th></th>\n",
       "      <th>Column1</th>\n",
       "      <th>Order ID</th>\n",
       "      <th>Product Category</th>\n",
       "      <th>Product</th>\n",
       "      <th>Quantity Ordered</th>\n",
       "      <th>Price Each</th>\n",
       "      <th>Order Date</th>\n",
       "      <th>Purchase Address</th>\n",
       "      <th>Month</th>\n",
       "      <th>Sales</th>\n",
       "      <th>City</th>\n",
       "      <th>Hour</th>\n",
       "      <th>Time of Day</th>\n",
       "    </tr>\n",
       "  </thead>\n",
       "  <tbody>\n",
       "    <tr>\n",
       "      <th>0</th>\n",
       "      <td>0</td>\n",
       "      <td>295665</td>\n",
       "      <td>Laptops and Computers</td>\n",
       "      <td>Macbook Pro Laptop</td>\n",
       "      <td>1</td>\n",
       "      <td>1700.00</td>\n",
       "      <td>30-12-2019 00:01</td>\n",
       "      <td>136 Church St, New York City, NY 10001</td>\n",
       "      <td>12</td>\n",
       "      <td>1700.00</td>\n",
       "      <td>New York City</td>\n",
       "      <td>0</td>\n",
       "      <td>Night</td>\n",
       "    </tr>\n",
       "    <tr>\n",
       "      <th>1</th>\n",
       "      <td>1</td>\n",
       "      <td>295666</td>\n",
       "      <td>Home Appliances</td>\n",
       "      <td>LG Washing Machine</td>\n",
       "      <td>1</td>\n",
       "      <td>600.00</td>\n",
       "      <td>29-12-2019 07:03</td>\n",
       "      <td>562 2nd St, New York City, NY 10001</td>\n",
       "      <td>12</td>\n",
       "      <td>600.00</td>\n",
       "      <td>New York City</td>\n",
       "      <td>7</td>\n",
       "      <td>Morning</td>\n",
       "    </tr>\n",
       "    <tr>\n",
       "      <th>2</th>\n",
       "      <td>2</td>\n",
       "      <td>295667</td>\n",
       "      <td>Charging Cables</td>\n",
       "      <td>USB-C Charging Cable</td>\n",
       "      <td>1</td>\n",
       "      <td>11.95</td>\n",
       "      <td>12-12-2019 18:21</td>\n",
       "      <td>277 Main St, New York City, NY 10001</td>\n",
       "      <td>12</td>\n",
       "      <td>11.95</td>\n",
       "      <td>New York City</td>\n",
       "      <td>18</td>\n",
       "      <td>Evening</td>\n",
       "    </tr>\n",
       "    <tr>\n",
       "      <th>3</th>\n",
       "      <td>3</td>\n",
       "      <td>295668</td>\n",
       "      <td>Monitors</td>\n",
       "      <td>27in FHD Monitor</td>\n",
       "      <td>1</td>\n",
       "      <td>149.99</td>\n",
       "      <td>22-12-2019 15:13</td>\n",
       "      <td>410 6th St, San Francisco, CA 94016</td>\n",
       "      <td>12</td>\n",
       "      <td>149.99</td>\n",
       "      <td>San Francisco</td>\n",
       "      <td>15</td>\n",
       "      <td>Afternoon</td>\n",
       "    </tr>\n",
       "    <tr>\n",
       "      <th>4</th>\n",
       "      <td>4</td>\n",
       "      <td>295669</td>\n",
       "      <td>Charging Cables</td>\n",
       "      <td>USB-C Charging Cable</td>\n",
       "      <td>1</td>\n",
       "      <td>11.95</td>\n",
       "      <td>18-12-2019 12:38</td>\n",
       "      <td>43 Hill St, Atlanta, GA 30301</td>\n",
       "      <td>12</td>\n",
       "      <td>11.95</td>\n",
       "      <td>Atlanta</td>\n",
       "      <td>12</td>\n",
       "      <td>Afternoon</td>\n",
       "    </tr>\n",
       "  </tbody>\n",
       "</table>\n",
       "</div>"
      ],
      "text/plain": [
       "   Column1  Order ID       Product Category               Product  \\\n",
       "0        0    295665  Laptops and Computers    Macbook Pro Laptop   \n",
       "1        1    295666        Home Appliances    LG Washing Machine   \n",
       "2        2    295667        Charging Cables  USB-C Charging Cable   \n",
       "3        3    295668               Monitors      27in FHD Monitor   \n",
       "4        4    295669        Charging Cables  USB-C Charging Cable   \n",
       "\n",
       "   Quantity Ordered  Price Each        Order Date  \\\n",
       "0                 1     1700.00  30-12-2019 00:01   \n",
       "1                 1      600.00  29-12-2019 07:03   \n",
       "2                 1       11.95  12-12-2019 18:21   \n",
       "3                 1      149.99  22-12-2019 15:13   \n",
       "4                 1       11.95  18-12-2019 12:38   \n",
       "\n",
       "                         Purchase Address  Month    Sales            City  \\\n",
       "0  136 Church St, New York City, NY 10001     12  1700.00   New York City   \n",
       "1     562 2nd St, New York City, NY 10001     12   600.00   New York City   \n",
       "2    277 Main St, New York City, NY 10001     12    11.95   New York City   \n",
       "3     410 6th St, San Francisco, CA 94016     12   149.99   San Francisco   \n",
       "4           43 Hill St, Atlanta, GA 30301     12    11.95         Atlanta   \n",
       "\n",
       "   Hour Time of Day  \n",
       "0     0       Night  \n",
       "1     7     Morning  \n",
       "2    18     Evening  \n",
       "3    15   Afternoon  \n",
       "4    12   Afternoon  "
      ]
     },
     "execution_count": 2,
     "metadata": {},
     "output_type": "execute_result"
    }
   ],
   "source": [
    "a = pd.read_csv(\"Sales Data Analysis.csv\")\n",
    "a.head()"
   ]
  },
  {
   "cell_type": "code",
   "execution_count": 4,
   "id": "5d9c0af1-077e-4d7b-86cd-3572a3eb6be0",
   "metadata": {},
   "outputs": [
    {
     "name": "stdout",
     "output_type": "stream",
     "text": [
      "First 5 rows:\n",
      "   Column1  Order ID       Product Category               Product  \\\n",
      "0        0    295665  Laptops and Computers    Macbook Pro Laptop   \n",
      "1        1    295666        Home Appliances    LG Washing Machine   \n",
      "2        2    295667        Charging Cables  USB-C Charging Cable   \n",
      "3        3    295668               Monitors      27in FHD Monitor   \n",
      "4        4    295669        Charging Cables  USB-C Charging Cable   \n",
      "\n",
      "   Quantity Ordered  Price Each        Order Date  \\\n",
      "0                 1     1700.00  30-12-2019 00:01   \n",
      "1                 1      600.00  29-12-2019 07:03   \n",
      "2                 1       11.95  12-12-2019 18:21   \n",
      "3                 1      149.99  22-12-2019 15:13   \n",
      "4                 1       11.95  18-12-2019 12:38   \n",
      "\n",
      "                         Purchase Address  Month    Sales            City  \\\n",
      "0  136 Church St, New York City, NY 10001     12  1700.00   New York City   \n",
      "1     562 2nd St, New York City, NY 10001     12   600.00   New York City   \n",
      "2    277 Main St, New York City, NY 10001     12    11.95   New York City   \n",
      "3     410 6th St, San Francisco, CA 94016     12   149.99   San Francisco   \n",
      "4           43 Hill St, Atlanta, GA 30301     12    11.95         Atlanta   \n",
      "\n",
      "   Hour Time of Day  \n",
      "0     0       Night  \n",
      "1     7     Morning  \n",
      "2    18     Evening  \n",
      "3    15   Afternoon  \n",
      "4    12   Afternoon  \n"
     ]
    }
   ],
   "source": [
    "print(\"First 5 rows:\")\n",
    "print(a.head())"
   ]
  },
  {
   "cell_type": "code",
   "execution_count": 5,
   "id": "12892a9e-87ab-4b4b-83de-9d3e2e425273",
   "metadata": {},
   "outputs": [
    {
     "name": "stdout",
     "output_type": "stream",
     "text": [
      "\n",
      "Last 5 rows:\n",
      "        Column1  Order ID Product Category                 Product  \\\n",
      "185945    13617    222905         Batterie  AAA Batteries (4-pack)   \n",
      "185946    13618    222906         Monitors        27in FHD Monitor   \n",
      "185947    13619    222907  Charging Cables    USB-C Charging Cable   \n",
      "185948    13620    222908  Charging Cables    USB-C Charging Cable   \n",
      "185949    13621    222909         Batterie  AAA Batteries (4-pack)   \n",
      "\n",
      "        Quantity Ordered  Price Each        Order Date  \\\n",
      "185945                 1        2.99  07-06-2019 19:02   \n",
      "185946                 1      149.99  01-06-2019 19:29   \n",
      "185947                 1       11.95  22-06-2019 18:57   \n",
      "185948                 1       11.95  26-06-2019 18:35   \n",
      "185949                 1        2.99  25-06-2019 14:33   \n",
      "\n",
      "                             Purchase Address  Month   Sales            City  \\\n",
      "185945          795 Pine St, Boston, MA 02215      6    2.99          Boston   \n",
      "185946  495 North St, New York City, NY 10001      6  149.99   New York City   \n",
      "185947  319 Ridge St, San Francisco, CA 94016      6   11.95   San Francisco   \n",
      "185948   916 Main St, San Francisco, CA 94016      6   11.95   San Francisco   \n",
      "185949         209 11th St, Atlanta, GA 30301      6    2.99         Atlanta   \n",
      "\n",
      "        Hour Time of Day  \n",
      "185945    19     Evening  \n",
      "185946    19     Evening  \n",
      "185947    18     Evening  \n",
      "185948    18     Evening  \n",
      "185949    14   Afternoon  \n"
     ]
    }
   ],
   "source": [
    "print(\"\\nLast 5 rows:\")\n",
    "print(a.tail())"
   ]
  },
  {
   "cell_type": "code",
   "execution_count": 6,
   "id": "24a00bc0-fff1-4c76-8166-8354839de627",
   "metadata": {},
   "outputs": [
    {
     "name": "stdout",
     "output_type": "stream",
     "text": [
      "Shape: (185950, 13)\n"
     ]
    }
   ],
   "source": [
    "print(\"Shape:\", a.shape)"
   ]
  },
  {
   "cell_type": "code",
   "execution_count": 7,
   "id": "c5c8cbe0-19b9-4e23-a54c-7fb87ee6aaeb",
   "metadata": {},
   "outputs": [
    {
     "name": "stdout",
     "output_type": "stream",
     "text": [
      "\n",
      "Data types and Non-null counts:\n",
      "<class 'pandas.core.frame.DataFrame'>\n",
      "RangeIndex: 185950 entries, 0 to 185949\n",
      "Data columns (total 13 columns):\n",
      " #   Column            Non-Null Count   Dtype  \n",
      "---  ------            --------------   -----  \n",
      " 0   Column1           185950 non-null  int64  \n",
      " 1   Order ID          185950 non-null  int64  \n",
      " 2   Product Category  185950 non-null  object \n",
      " 3   Product           185950 non-null  object \n",
      " 4   Quantity Ordered  185950 non-null  int64  \n",
      " 5   Price Each        185950 non-null  float64\n",
      " 6   Order Date        185950 non-null  object \n",
      " 7   Purchase Address  185950 non-null  object \n",
      " 8   Month             185950 non-null  int64  \n",
      " 9   Sales             185950 non-null  float64\n",
      " 10  City              185950 non-null  object \n",
      " 11  Hour              185950 non-null  int64  \n",
      " 12  Time of Day       185950 non-null  object \n",
      "dtypes: float64(2), int64(5), object(6)\n",
      "memory usage: 18.4+ MB\n",
      "None\n"
     ]
    }
   ],
   "source": [
    "print(\"\\nData types and Non-null counts:\")\n",
    "print(a.info())"
   ]
  },
  {
   "cell_type": "code",
   "execution_count": 8,
   "id": "b06845f7-8d23-415f-abea-90432902beff",
   "metadata": {},
   "outputs": [
    {
     "name": "stdout",
     "output_type": "stream",
     "text": [
      "Column names:\n",
      "['Column1', 'Order ID', 'Product Category', 'Product', 'Quantity Ordered', 'Price Each', 'Order Date', 'Purchase Address', 'Month', 'Sales', 'City', 'Hour', 'Time of Day']\n"
     ]
    }
   ],
   "source": [
    "print(\"Column names:\")\n",
    "print(a.columns.tolist())"
   ]
  },
  {
   "cell_type": "code",
   "execution_count": 9,
   "id": "85a50673-4347-4ece-908d-eeacff16dbf9",
   "metadata": {},
   "outputs": [
    {
     "name": "stdout",
     "output_type": "stream",
     "text": [
      "\n",
      "Summary statistics for numeric columns:\n",
      "             Column1       Order ID  Quantity Ordered     Price Each  \\\n",
      "count  185950.000000  185950.000000     185950.000000  185950.000000   \n",
      "mean     8340.388475  230417.569379          1.124383     184.399735   \n",
      "std      5450.554093   51512.737110          0.442793     332.731330   \n",
      "min         0.000000  141234.000000          1.000000       2.990000   \n",
      "25%      3894.000000  185831.250000          1.000000      11.950000   \n",
      "50%      7786.000000  230367.500000          1.000000      14.950000   \n",
      "75%     11872.000000  275035.750000          1.000000     150.000000   \n",
      "max     25116.000000  319670.000000          9.000000    1700.000000   \n",
      "\n",
      "               Month          Sales           Hour  \n",
      "count  185950.000000  185950.000000  185950.000000  \n",
      "mean        7.059140     185.490917      14.413305  \n",
      "std         3.502996     332.919771       5.423416  \n",
      "min         1.000000       2.990000       0.000000  \n",
      "25%         4.000000      11.950000      11.000000  \n",
      "50%         7.000000      14.950000      15.000000  \n",
      "75%        10.000000     150.000000      19.000000  \n",
      "max        12.000000    3400.000000      23.000000  \n"
     ]
    }
   ],
   "source": [
    "print(\"\\nSummary statistics for numeric columns:\")\n",
    "print(a.describe())"
   ]
  },
  {
   "cell_type": "code",
   "execution_count": 10,
   "id": "51845b00-293a-4c39-b1fa-5668bef99d01",
   "metadata": {},
   "outputs": [],
   "source": [
    "sales_summary = a.groupby('Month')['Sales'].agg(['sum', 'mean']).reset_index()"
   ]
  },
  {
   "cell_type": "code",
   "execution_count": 11,
   "id": "d67f6090-6941-424e-a4a0-33f20b7cb1e9",
   "metadata": {},
   "outputs": [
    {
     "name": "stdout",
     "output_type": "stream",
     "text": [
      "    Month  Total_Sales  Average_Sales\n",
      "0       1   1822256.73     187.687376\n",
      "1       2   2202022.42     183.884962\n",
      "2       3   2807100.38     185.250471\n",
      "3       4   3390670.24     185.495390\n",
      "4       5   3152606.75     190.305852\n",
      "5       6   2577802.26     190.187565\n",
      "6       7   2647775.76     185.249826\n",
      "7       8   2244467.88     187.648849\n",
      "8       9   2097560.13     180.497387\n",
      "9      10   3736726.88     184.238580\n",
      "10     11   3199603.20     182.074956\n",
      "11     12   4613443.34     184.655913\n"
     ]
    }
   ],
   "source": [
    "sales_summary.columns = ['Month', 'Total_Sales', 'Average_Sales']\n",
    "\n",
    "print(sales_summary)"
   ]
  },
  {
   "cell_type": "code",
   "execution_count": 13,
   "id": "585f4a3b-d2d3-42f8-aa28-5bc8246fcc69",
   "metadata": {},
   "outputs": [
    {
     "name": "stdout",
     "output_type": "stream",
     "text": [
      "Total yearly sales for all stores combined: 34492035.97\n"
     ]
    }
   ],
   "source": [
    "total_yearly_sales = a['Sales'].sum()\n",
    "\n",
    "print(\"Total yearly sales for all stores combined:\", total_yearly_sales)"
   ]
  },
  {
   "cell_type": "code",
   "execution_count": 14,
   "id": "b94f11dc-dbfd-4a3b-820d-864a173fb13d",
   "metadata": {},
   "outputs": [],
   "source": [
    "city_month_sales = a.groupby(['City', 'Month'])['Sales'].sum().reset_index()"
   ]
  },
  {
   "cell_type": "code",
   "execution_count": 15,
   "id": "5a4bb4aa-ca0e-4437-a224-210e84cb48cb",
   "metadata": {},
   "outputs": [
    {
     "name": "stdout",
     "output_type": "stream",
     "text": [
      "         City  Month  Total_Sales\n",
      "0     Atlanta      1    149159.54\n",
      "1     Atlanta      2    176470.30\n",
      "2     Atlanta      3    231905.38\n",
      "3     Atlanta      4    284448.91\n",
      "4     Atlanta      5    238853.99\n",
      "..        ...    ...          ...\n",
      "103   Seattle      8    189715.09\n",
      "104   Seattle      9    156369.27\n",
      "105   Seattle     10    316856.26\n",
      "106   Seattle     11    252080.13\n",
      "107   Seattle     12    387317.93\n",
      "\n",
      "[108 rows x 3 columns]\n"
     ]
    }
   ],
   "source": [
    "city_month_sales.columns = ['City', 'Month', 'Total_Sales']\n",
    "print(city_month_sales)"
   ]
  },
  {
   "cell_type": "code",
   "execution_count": 16,
   "id": "ed08590e-efbd-49a2-98d8-bb0a430a8545",
   "metadata": {},
   "outputs": [],
   "source": [
    "avg_monthly_sales = a.groupby('City')['Sales'].mean().reset_index()"
   ]
  },
  {
   "cell_type": "code",
   "execution_count": 17,
   "id": "19597ce2-21e0-4c03-b15a-492ac39260d7",
   "metadata": {},
   "outputs": [
    {
     "name": "stdout",
     "output_type": "stream",
     "text": [
      "             City  Average_Monthly_Sales\n",
      "0         Atlanta             187.856903\n",
      "1          Austin             183.703357\n",
      "2          Boston             183.688272\n",
      "3          Dallas             186.772969\n",
      "4     Los Angeles             184.177362\n",
      "5   New York City             187.502711\n",
      "6        Portland             186.160498\n",
      "7   San Francisco             184.704550\n",
      "8         Seattle             186.516120\n"
     ]
    }
   ],
   "source": [
    "avg_monthly_sales.columns = ['City', 'Average_Monthly_Sales']\n",
    "print(avg_monthly_sales)"
   ]
  },
  {
   "cell_type": "code",
   "execution_count": 18,
   "id": "3bc3666a-8098-4910-bf83-8886b1d9dffa",
   "metadata": {},
   "outputs": [],
   "source": [
    "avg_sales_per_city = a.groupby('City')['Sales'].mean().reset_index()"
   ]
  },
  {
   "cell_type": "code",
   "execution_count": 19,
   "id": "11ecf7b8-6a8c-480e-b81d-836bd106299d",
   "metadata": {},
   "outputs": [
    {
     "name": "stdout",
     "output_type": "stream",
     "text": [
      "City with the highest average sales:\n",
      "City        Atlanta\n",
      "Sales    187.856903\n",
      "Name: 0, dtype: object\n"
     ]
    }
   ],
   "source": [
    "top_city = avg_sales_per_city.loc[avg_sales_per_city['Sales'].idxmax()]\n",
    "print(\"City with the highest average sales:\")\n",
    "print(top_city)"
   ]
  },
  {
   "cell_type": "code",
   "execution_count": 21,
   "id": "fb01d7ea-8978-43cf-a93b-41a6ee2d6498",
   "metadata": {
    "scrolled": true
   },
   "outputs": [
    {
     "name": "stdout",
     "output_type": "stream",
     "text": [
      "['Column1', 'Order ID', 'Product Category', 'Product', 'Quantity Ordered', 'Price Each', 'Order Date', 'Purchase Address', 'Month', 'Sales', 'City', 'Hour', 'Time of Day']\n"
     ]
    }
   ],
   "source": [
    "print(a.columns.tolist())"
   ]
  },
  {
   "cell_type": "code",
   "execution_count": 22,
   "id": "72f45bc6-d2c8-418d-af10-2525897be134",
   "metadata": {},
   "outputs": [],
   "source": [
    "a.columns = a.columns.str.strip()"
   ]
  },
  {
   "cell_type": "code",
   "execution_count": 23,
   "id": "1cf3d578-a75c-408b-9e00-f963fc7846ba",
   "metadata": {},
   "outputs": [
    {
     "ename": "KeyError",
     "evalue": "\"None of [Index(['January', 'February', 'March', 'April'], dtype='object')] are in the [columns]\"",
     "output_type": "error",
     "traceback": [
      "\u001b[1;31m---------------------------------------------------------------------------\u001b[0m",
      "\u001b[1;31mKeyError\u001b[0m                                  Traceback (most recent call last)",
      "Cell \u001b[1;32mIn[23], line 1\u001b[0m\n\u001b[1;32m----> 1\u001b[0m a[\u001b[38;5;124m'\u001b[39m\u001b[38;5;124mTotal_Sales\u001b[39m\u001b[38;5;124m'\u001b[39m] \u001b[38;5;241m=\u001b[39m a[[\u001b[38;5;124m'\u001b[39m\u001b[38;5;124mJanuary\u001b[39m\u001b[38;5;124m'\u001b[39m, \u001b[38;5;124m'\u001b[39m\u001b[38;5;124mFebruary\u001b[39m\u001b[38;5;124m'\u001b[39m, \u001b[38;5;124m'\u001b[39m\u001b[38;5;124mMarch\u001b[39m\u001b[38;5;124m'\u001b[39m, \u001b[38;5;124m'\u001b[39m\u001b[38;5;124mApril\u001b[39m\u001b[38;5;124m'\u001b[39m]]\u001b[38;5;241m.\u001b[39msum(axis\u001b[38;5;241m=\u001b[39m\u001b[38;5;241m1\u001b[39m)\n",
      "File \u001b[1;32m~\\anaconda3\\Lib\\site-packages\\pandas\\core\\frame.py:4108\u001b[0m, in \u001b[0;36mDataFrame.__getitem__\u001b[1;34m(self, key)\u001b[0m\n\u001b[0;32m   4106\u001b[0m     \u001b[38;5;28;01mif\u001b[39;00m is_iterator(key):\n\u001b[0;32m   4107\u001b[0m         key \u001b[38;5;241m=\u001b[39m \u001b[38;5;28mlist\u001b[39m(key)\n\u001b[1;32m-> 4108\u001b[0m     indexer \u001b[38;5;241m=\u001b[39m \u001b[38;5;28mself\u001b[39m\u001b[38;5;241m.\u001b[39mcolumns\u001b[38;5;241m.\u001b[39m_get_indexer_strict(key, \u001b[38;5;124m\"\u001b[39m\u001b[38;5;124mcolumns\u001b[39m\u001b[38;5;124m\"\u001b[39m)[\u001b[38;5;241m1\u001b[39m]\n\u001b[0;32m   4110\u001b[0m \u001b[38;5;66;03m# take() does not accept boolean indexers\u001b[39;00m\n\u001b[0;32m   4111\u001b[0m \u001b[38;5;28;01mif\u001b[39;00m \u001b[38;5;28mgetattr\u001b[39m(indexer, \u001b[38;5;124m\"\u001b[39m\u001b[38;5;124mdtype\u001b[39m\u001b[38;5;124m\"\u001b[39m, \u001b[38;5;28;01mNone\u001b[39;00m) \u001b[38;5;241m==\u001b[39m \u001b[38;5;28mbool\u001b[39m:\n",
      "File \u001b[1;32m~\\anaconda3\\Lib\\site-packages\\pandas\\core\\indexes\\base.py:6200\u001b[0m, in \u001b[0;36mIndex._get_indexer_strict\u001b[1;34m(self, key, axis_name)\u001b[0m\n\u001b[0;32m   6197\u001b[0m \u001b[38;5;28;01melse\u001b[39;00m:\n\u001b[0;32m   6198\u001b[0m     keyarr, indexer, new_indexer \u001b[38;5;241m=\u001b[39m \u001b[38;5;28mself\u001b[39m\u001b[38;5;241m.\u001b[39m_reindex_non_unique(keyarr)\n\u001b[1;32m-> 6200\u001b[0m \u001b[38;5;28mself\u001b[39m\u001b[38;5;241m.\u001b[39m_raise_if_missing(keyarr, indexer, axis_name)\n\u001b[0;32m   6202\u001b[0m keyarr \u001b[38;5;241m=\u001b[39m \u001b[38;5;28mself\u001b[39m\u001b[38;5;241m.\u001b[39mtake(indexer)\n\u001b[0;32m   6203\u001b[0m \u001b[38;5;28;01mif\u001b[39;00m \u001b[38;5;28misinstance\u001b[39m(key, Index):\n\u001b[0;32m   6204\u001b[0m     \u001b[38;5;66;03m# GH 42790 - Preserve name from an Index\u001b[39;00m\n",
      "File \u001b[1;32m~\\anaconda3\\Lib\\site-packages\\pandas\\core\\indexes\\base.py:6249\u001b[0m, in \u001b[0;36mIndex._raise_if_missing\u001b[1;34m(self, key, indexer, axis_name)\u001b[0m\n\u001b[0;32m   6247\u001b[0m \u001b[38;5;28;01mif\u001b[39;00m nmissing:\n\u001b[0;32m   6248\u001b[0m     \u001b[38;5;28;01mif\u001b[39;00m nmissing \u001b[38;5;241m==\u001b[39m \u001b[38;5;28mlen\u001b[39m(indexer):\n\u001b[1;32m-> 6249\u001b[0m         \u001b[38;5;28;01mraise\u001b[39;00m \u001b[38;5;167;01mKeyError\u001b[39;00m(\u001b[38;5;124mf\u001b[39m\u001b[38;5;124m\"\u001b[39m\u001b[38;5;124mNone of [\u001b[39m\u001b[38;5;132;01m{\u001b[39;00mkey\u001b[38;5;132;01m}\u001b[39;00m\u001b[38;5;124m] are in the [\u001b[39m\u001b[38;5;132;01m{\u001b[39;00maxis_name\u001b[38;5;132;01m}\u001b[39;00m\u001b[38;5;124m]\u001b[39m\u001b[38;5;124m\"\u001b[39m)\n\u001b[0;32m   6251\u001b[0m     not_found \u001b[38;5;241m=\u001b[39m \u001b[38;5;28mlist\u001b[39m(ensure_index(key)[missing_mask\u001b[38;5;241m.\u001b[39mnonzero()[\u001b[38;5;241m0\u001b[39m]]\u001b[38;5;241m.\u001b[39munique())\n\u001b[0;32m   6252\u001b[0m     \u001b[38;5;28;01mraise\u001b[39;00m \u001b[38;5;167;01mKeyError\u001b[39;00m(\u001b[38;5;124mf\u001b[39m\u001b[38;5;124m\"\u001b[39m\u001b[38;5;132;01m{\u001b[39;00mnot_found\u001b[38;5;132;01m}\u001b[39;00m\u001b[38;5;124m not in index\u001b[39m\u001b[38;5;124m\"\u001b[39m)\n",
      "\u001b[1;31mKeyError\u001b[0m: \"None of [Index(['January', 'February', 'March', 'April'], dtype='object')] are in the [columns]\""
     ]
    }
   ],
   "source": [
    "a['Total_Sales'] = a[['January', 'February', 'March', 'April']].sum(axis=1)"
   ]
  },
  {
   "cell_type": "code",
   "execution_count": 25,
   "id": "318c7821-83f1-43e3-a347-83ff2f3b9577",
   "metadata": {},
   "outputs": [
    {
     "name": "stdout",
     "output_type": "stream",
     "text": [
      "['Column1', 'Order ID', 'Product Category', 'Product', 'Quantity Ordered', 'Price Each', 'Order Date', 'Purchase Address', 'Month', 'Sales', 'City', 'Hour', 'Time of Day']\n"
     ]
    }
   ],
   "source": [
    "print(a.columns.tolist())"
   ]
  },
  {
   "cell_type": "code",
   "execution_count": null,
   "id": "165af9f7-a296-4b7b-8ee0-96aa18a0f44f",
   "metadata": {},
   "outputs": [],
   "source": []
  }
 ],
 "metadata": {
  "kernelspec": {
   "display_name": "Python 3 (ipykernel)",
   "language": "python",
   "name": "python3"
  },
  "language_info": {
   "codemirror_mode": {
    "name": "ipython",
    "version": 3
   },
   "file_extension": ".py",
   "mimetype": "text/x-python",
   "name": "python",
   "nbconvert_exporter": "python",
   "pygments_lexer": "ipython3",
   "version": "3.13.5"
  }
 },
 "nbformat": 4,
 "nbformat_minor": 5
}
